{
 "cells": [
  {
   "cell_type": "code",
   "execution_count": 1,
   "id": "b7f4ec76",
   "metadata": {},
   "outputs": [],
   "source": [
    "from function import *\n",
    "from time import sleep\n"
   ]
  },
  {
   "cell_type": "code",
   "execution_count": 2,
   "id": "2228ce15",
   "metadata": {},
   "outputs": [],
   "source": [
    "import numpy as np"
   ]
  },
  {
   "cell_type": "code",
   "execution_count": 5,
   "id": "4beee2f2",
   "metadata": {},
   "outputs": [],
   "source": [
    "a=np.load('MP_Data/A/0/0.npy')"
   ]
  },
  {
   "cell_type": "code",
   "execution_count": 6,
   "id": "32f6fba7",
   "metadata": {},
   "outputs": [
    {
     "data": {
      "text/plain": [
       "array([ 3.82389247e-01,  7.11555004e-01,  1.32440920e-08,  6.08774483e-01,\n",
       "        6.72787666e-01, -6.96492270e-02,  7.87917018e-01,  4.97617006e-01,\n",
       "       -1.13835104e-01,  8.13019216e-01,  3.05858552e-01, -1.55097440e-01,\n",
       "        7.52247334e-01,  1.76563352e-01, -1.81789681e-01,  6.44126534e-01,\n",
       "        3.11256021e-01, -6.02962784e-02,  6.57785475e-01,  2.11371228e-01,\n",
       "       -1.03315964e-01,  6.31009340e-01,  3.62584889e-01, -7.29784071e-02,\n",
       "        6.16808712e-01,  4.07141805e-01, -5.26179001e-02,  4.99456227e-01,\n",
       "        3.01573336e-01, -8.43873098e-02,  5.27616382e-01,  1.92136392e-01,\n",
       "       -1.60300136e-01,  5.11016250e-01,  3.85641038e-01, -1.23291671e-01,\n",
       "        4.95674729e-01,  4.11016494e-01, -7.05778450e-02,  3.61013740e-01,\n",
       "        3.15646261e-01, -1.23314127e-01,  3.79369080e-01,  1.97726265e-01,\n",
       "       -2.15829104e-01,  3.90750825e-01,  3.91802341e-01, -1.74977332e-01,\n",
       "        3.81694078e-01,  4.39913034e-01, -1.15021482e-01,  2.20785320e-01,\n",
       "        3.42266679e-01, -1.69605136e-01,  2.45055556e-01,  2.56369174e-01,\n",
       "       -2.12010980e-01,  2.71399170e-01,  3.92583251e-01, -1.83746219e-01,\n",
       "        2.69565493e-01,  4.33336109e-01, -1.45207778e-01])"
      ]
     },
     "execution_count": 6,
     "metadata": {},
     "output_type": "execute_result"
    }
   ],
   "source": [
    "a"
   ]
  },
  {
   "cell_type": "code",
   "execution_count": 7,
   "id": "b0e66175",
   "metadata": {},
   "outputs": [
    {
     "data": {
      "text/plain": [
       "(63,)"
      ]
     },
     "execution_count": 7,
     "metadata": {},
     "output_type": "execute_result"
    }
   ],
   "source": [
    "a.shape"
   ]
  },
  {
   "cell_type": "code",
   "execution_count": 8,
   "id": "d99bad75",
   "metadata": {},
   "outputs": [
    {
     "data": {
      "text/plain": [
       "0.38238924741744995"
      ]
     },
     "execution_count": 8,
     "metadata": {},
     "output_type": "execute_result"
    }
   ],
   "source": [
    "a[0]"
   ]
  },
  {
   "cell_type": "code",
   "execution_count": 9,
   "id": "1b6745fb",
   "metadata": {},
   "outputs": [],
   "source": [
    "array=np.array([[1,2,3],[4,5,6],[7,8,9]])"
   ]
  },
  {
   "cell_type": "code",
   "execution_count": 10,
   "id": "3d265e5e",
   "metadata": {},
   "outputs": [],
   "source": [
    "array=array.flatten()"
   ]
  },
  {
   "cell_type": "code",
   "execution_count": 11,
   "id": "56d3fef2",
   "metadata": {},
   "outputs": [
    {
     "data": {
      "text/plain": [
       "array([1, 2, 3, 4, 5, 6, 7, 8, 9])"
      ]
     },
     "execution_count": 11,
     "metadata": {},
     "output_type": "execute_result"
    }
   ],
   "source": [
    "array"
   ]
  },
  {
   "cell_type": "code",
   "execution_count": null,
   "id": "824698f5",
   "metadata": {},
   "outputs": [],
   "source": []
  }
 ],
 "metadata": {
  "kernelspec": {
   "display_name": "Python 3 (ipykernel)",
   "language": "python",
   "name": "python3"
  },
  "language_info": {
   "codemirror_mode": {
    "name": "ipython",
    "version": 3
   },
   "file_extension": ".py",
   "mimetype": "text/x-python",
   "name": "python",
   "nbconvert_exporter": "python",
   "pygments_lexer": "ipython3",
   "version": "3.10.6"
  }
 },
 "nbformat": 4,
 "nbformat_minor": 5
}
